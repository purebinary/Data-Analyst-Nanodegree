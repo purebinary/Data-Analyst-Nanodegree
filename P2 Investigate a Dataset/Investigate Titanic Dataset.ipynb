{
 "cells": [
  {
   "cell_type": "markdown",
   "metadata": {},
   "source": [
    "# Investigate Titanic Dataset"
   ]
  },
  {
   "cell_type": "markdown",
   "metadata": {},
   "source": [
    "## 1. Load Data from CSV"
   ]
  },
  {
   "cell_type": "code",
   "execution_count": 168,
   "metadata": {
    "collapsed": false
   },
   "outputs": [
    {
     "name": "stdout",
     "output_type": "stream",
     "text": [
      "Populating the interactive namespace from numpy and matplotlib\n"
     ]
    }
   ],
   "source": [
    "%pylab inline\n",
    "import numpy as np\n",
    "import pandas as pd\n",
    "import matplotlib.pyplot as plt\n",
    "import seaborn as sns\n",
    "\n",
    "# The following code reads all Titanic passengers data into Pandas DataFrame.\n",
    "path = '~/documents/nd/da/p2/'\n",
    "titanic_df = pd.read_csv(path + 'titanic_data.csv')\n",
    "test_df = pd.read_csv(path + 'test.csv')\n",
    "test_survived_df = pd.read_csv(path + 'gendermodel.csv')"
   ]
  },
  {
   "cell_type": "markdown",
   "metadata": {},
   "source": [
    "## 2. Data Fixing and Cleaning"
   ]
  },
  {
   "cell_type": "code",
   "execution_count": 169,
   "metadata": {
    "collapsed": false
   },
   "outputs": [
    {
     "name": "stdout",
     "output_type": "stream",
     "text": [
      "      PassengerId  Survived  Pclass  Sex   Age      Fare  Embarked\n",
      "1304         1305         0       3    1  28.0    8.0500       3.0\n",
      "1305         1306         1       1    0  39.0  108.9000       1.0\n",
      "1306         1307         0       3    1  38.5    7.2500       3.0\n",
      "1307         1308         0       3    1  28.0    8.0500       3.0\n",
      "1308         1309         0       3    1  28.0   22.3583       1.0\n"
     ]
    }
   ],
   "source": [
    "# Concatenate test.csv and gendermodel.csv into titanic_df\n",
    "# Replace the NaN in column Age to age's median.\n",
    "# Change Sex string(male, female) to value 1, 0 \n",
    "# Chang ports' name(C = Cherbourg; Q = Queenstown; S = Southampton) to 1, 2, 3\n",
    "# Remove the column of Name, Sibsp, Parch, Ticket, Cabin\n",
    "\n",
    "test_df = test_df.drop('PassengerId', axis=1)\n",
    "temp_df = pd.concat([test_survived_df, test_df], axis=1)\n",
    "titanic_df = pd.concat([titanic_df, temp_df], ignore_index=True)\n",
    "titanic_df['Age'].fillna(titanic_df['Age'].median(), inplace=True)\n",
    "titanic_df.replace(to_replace=['male','female'], value=[1,0], inplace=True)\n",
    "titanic_df.replace(to_replace=['C','Q','S'], value=[1,2,3], inplace=True)\n",
    "titanic_df = titanic_df.drop(['Name', 'SibSp', 'Parch', 'Ticket', 'Cabin'],axis=1)\n",
    "print titanic_df.tail()"
   ]
  },
  {
   "cell_type": "markdown",
   "metadata": {},
   "source": [
    "## 3. Data Exploring"
   ]
  },
  {
   "cell_type": "code",
   "execution_count": 170,
   "metadata": {
    "collapsed": false
   },
   "outputs": [
    {
     "name": "stdout",
     "output_type": "stream",
     "text": [
      "---- Basic Information ----\n",
      "Total 1309 passengers onboard, and 494 of passengers survived.\n",
      "Total survial rate is 37.7%.\n",
      "\n",
      "---- Age related statistics ----\n",
      "The youngest survivor is 0.17 year old and victim is 0.33 year old\n",
      "The oldest survivor is 80.0 years old and victim is 74.0 years old\n",
      "The average age is  29.5\n",
      "\n",
      "---- Gender related statistics ----\n",
      "1    843\n",
      "0    466\n",
      "Name: Sex, dtype: int64\n",
      "1    0.644003\n",
      "0    0.355997\n",
      "Name: Sex, dtype: float64\n",
      "Total survival by Gender\n",
      "Sex\n",
      "0    385\n",
      "1    109\n",
      "Name: Survived, dtype: int64\n",
      "\n",
      "---- Embarked related statistics ----\n",
      "3.0    914\n",
      "1.0    270\n",
      "2.0    123\n",
      "Name: Embarked, dtype: int64\n",
      "3.0    0.698243\n",
      "1.0    0.206264\n",
      "2.0    0.093965\n",
      "Name: Embarked, dtype: float64\n",
      "\n",
      "---- Survived by Pclass ----\n",
      "Total passengers by Pclass \n",
      "3    709\n",
      "1    323\n",
      "2    277\n",
      "Name: Pclass, dtype: int64\n",
      "Total Survival by Pclass \n",
      "Pclass\n",
      "1    186\n",
      "2    117\n",
      "3    191\n",
      "Name: Survived, dtype: int64\n"
     ]
    }
   ],
   "source": [
    "#Exploring data\n",
    "\n",
    "survivor_df = titanic_df[titanic_df['Survived'] == 1] # create a new df of all survivors\n",
    "victim_df = titanic_df[titanic_df['Survived'] == 0]   # create a new df of all victims\n",
    "\n",
    "total_passengers = len(titanic_df)\n",
    "total_survivors = len(survivor_df)\n",
    "survival_rate = titanic_df['Survived'].value_counts(normalize=True)\n",
    "\n",
    "print \"---- Basic Information ----\"\n",
    "print \"Total {} passengers onboard, and {} of passengers survived.\".format(total_passengers, total_survivors) \n",
    "print \"Total survial rate is {}.\".format(str(round(survival_rate[1],3)*100)+'%')\n",
    "print \"\"\n",
    "\n",
    "print \"---- Age related statistics ----\"\n",
    "min_ages = titanic_df.groupby('Survived')['Age'].min()\n",
    "print \"The youngest survivor is {} year old and victim is {} year old\".format(min_ages[1], min_ages[0])\n",
    "max_ages = titanic_df.groupby('Survived')['Age'].max()\n",
    "print \"The oldest survivor is {} years old and victim is {} years old\".format(max_ages[1], max_ages[0])\n",
    "print \"The average age is \",round(titanic_df['Age'].mean(),1)\n",
    "print ''\n",
    "\n",
    "print \"---- Gender related statistics ----\"\n",
    "print titanic_df['Sex'].value_counts()\n",
    "print titanic_df['Sex'].value_counts(normalize=True)\n",
    "print \"Total survival by Gender\"\n",
    "print titanic_df.groupby('Sex')['Survived'].sum()\n",
    "print \"\"\n",
    "\n",
    "print \"---- Embarked related statistics ----\"\n",
    "print titanic_df['Embarked'].value_counts()\n",
    "print titanic_df['Embarked'].value_counts(normalize=True)\n",
    "print \"\"\n",
    "\n",
    "print \"---- Survived by Pclass ----\"\n",
    "print \"Total passengers by Pclass \" \n",
    "print titanic_df['Pclass'].value_counts()\n",
    "print \"Total Survival by Pclass \"\n",
    "print titanic_df.groupby('Pclass')['Survived'].sum()"
   ]
  },
  {
   "cell_type": "markdown",
   "metadata": {},
   "source": [
    "### 3.1 Descriptive Statistics\n",
    "- Base on Titanic Dataset, there are total 1309 passengers onboard, and 494 of passengers survived, the total survial    rate is 37.7%.                      \n",
    "- The average age is 29.5 years old, the youngest survivor is 0.17 year old and victim is 0.33 year old, the oldest      survivor is 80.0 years old and victim is 74.0 years old.               \n",
    "- among all the passengers, total 843 males, the proportion of 64.4%, 109 of them survived. Total 466 females, the          proportion of 35.6%, 385 of them survived.               \n",
    "- 69.8% of passengers(914) embarked from port Southampton,20.6% of passengers(270) embarked from port Cherbourg, 9.6%    of passengers(123) embarked from port Queenstown.                 \n",
    "- 323 passengers stayed in the first class cabin, 186 of them survived. 277 passengers stayed in the second class        cabin, 117 of them survived. 709 passengers stayed in the third class cabin, 191 of them survived.  \n",
    "\n",
    "\n"
   ]
  },
  {
   "cell_type": "markdown",
   "metadata": {},
   "source": [
    "## 4. Predictions and Analysis\n",
    "   Accroding the Section 3.1 descriptive statistics, my questions: Is there a relationship between Survival and Cabin Classis? Would females have more survived rate than males? Is there a relationship between  Survival and Ebarked ports? what is the relatinship between Survival and Ages?\n",
    "   My prediction: Females would have more survival rate than males. First class cabin would have the highest survial rate than others, and Survival rate does not related to Age. "
   ]
  },
  {
   "cell_type": "code",
   "execution_count": 171,
   "metadata": {
    "collapsed": false
   },
   "outputs": [],
   "source": [
    "# Define functions to get total numbers, ratio and total ratio \n",
    "\n",
    "#caculate total numbers of one column by particular group(Gender, Pclass, and Embarked)\n",
    "def total_number(df, column, key): \n",
    "    col_df = df[column]\n",
    "    return len(col_df[col_df == key])\n",
    "\n",
    "# caculate the ratio of surivior or vitim by partiular group\n",
    "def ratio(df, column, key): \n",
    "    rate = total_number(df, column, key)/float(total_number(titanic_df, column, key))\n",
    "    rate = round(rate, 3)\n",
    "    return str(rate*100)+'%'\n",
    "\n",
    "# caculate total ratio by column(Gender, Pclass, Embarked)\n",
    "def total_ratio(column): \n",
    "    survivor_ratio = []\n",
    "    victim_ratio = []\n",
    "    if column == 'Sex':\n",
    "        for i in range(0,2):\n",
    "            survivor_ratio.append(ratio(survivor_df, column, i))\n",
    "            victim_ratio.append(ratio(victim_df, column, i))\n",
    "    else:\n",
    "        for i in range(1,4):\n",
    "            survivor_ratio.append(ratio(survivor_df, column, i))\n",
    "            victim_ratio.append(ratio(victim_df, column, i))\n",
    "    return [survivor_ratio, victim_ratio]\n"
   ]
  },
  {
   "cell_type": "markdown",
   "metadata": {
    "collapsed": true
   },
   "source": [
    "### 4.1 Pclass vs. Survived?\n",
    "To compare the Survival Rates between three Cabin Classes, statistical tests will be run. Since Survival is a categorical dependent variable, an Chi-Squared test for categorical data is an appropriate statistical test(set p_critical = 0.05)."
   ]
  },
  {
   "cell_type": "code",
   "execution_count": 172,
   "metadata": {
    "collapsed": false
   },
   "outputs": [
    {
     "name": "stdout",
     "output_type": "stream",
     "text": [
      "Pclass      1    2    3\n",
      "Survived               \n",
      "0         137  160  518\n",
      "1         186  117  191 \n",
      "\n",
      "Results of Chi-Squared test on Pclass to Survival:\n",
      "Chi-Squared Score =  91.72\n",
      "P-value =  1.20908522759e-20\n"
     ]
    }
   ],
   "source": [
    "# Analysis relationship between Cabin Classes and Survival\n",
    "\n",
    "# Create a Contingency Table to examine relationships between categorical variables.\n",
    "\n",
    "from scipy import stats\n",
    "\n",
    "pivot = pd.pivot_table(data = titanic_df[['Survived', 'Pclass']], index = 'Survived', columns = ['Pclass'], aggfunc = len)\n",
    "print pivot,\"\\n\"\n",
    "\n",
    "# Using Contingency Table pivot to run Chi-Squared Test.\n",
    "chi2, p_value, dof, expected = stats.chi2_contingency(pivot)\n",
    "\n",
    "print \"Results of Chi-Squared test on Pclass to Survival:\"\n",
    "print \"Chi-Squared Score = \",round(chi2,2)\n",
    "print \"P-value = \", p_value\n"
   ]
  },
  {
   "cell_type": "markdown",
   "metadata": {},
   "source": [
    "#### Please see Section 4.1.1 for the detail analysis."
   ]
  },
  {
   "cell_type": "code",
   "execution_count": 185,
   "metadata": {
    "collapsed": false
   },
   "outputs": [
    {
     "data": {
      "image/png": "[encoded data removed]",
      "text/plain": [
       "<matplotlib.figure.Figure at 0x11747ed90>"
      ]
     },
     "metadata": {},
     "output_type": "display_data"
    },
    {
     "name": "stdout",
     "output_type": "stream",
     "text": [
      "            1st    2nd    3rd\n",
      "Survivor  57.6%  42.2%  26.9%\n",
      "Victim    42.4%  57.8%  73.1%\n"
     ]
    }
   ],
   "source": [
    "# Visualizing \"Pclass\" - \"Survived\" with bar chart\n",
    "\n",
    "pd.crosstab(titanic_df['Pclass'], titanic_df['Survived']).plot(kind='bar', color=['green','blue'])\n",
    "\n",
    "ax = plt.gca()\n",
    "ax.set_xticklabels(('1st Class','2nd Class', '3rd Class'),rotation=0)\n",
    "plt.xlabel('Cabin Class')\n",
    "plt.ylabel('Frequency')\n",
    "plt.title(\"Bar Chart of Survived By Class Cabin\")\n",
    "plt.legend(('Victim','Survivor'),prop={'size': 8})\n",
    "\n",
    "plt.show()\n",
    "\n",
    "#Caculate Surival ratio by Pclass\n",
    "Pclass_ratio_df = pd.DataFrame(data =total_ratio('Pclass'), index = ['Survivor','Victim'],\n",
    "                               columns =['1st','2nd','3rd'])\n",
    "print Pclass_ratio_df"
   ]
  },
  {
   "cell_type": "markdown",
   "metadata": {},
   "source": [
    "#### 4.1.3 Interpretation\n",
    "   According chi-square test results, since the P-value(1.21e-20) is less than the critical level(0.05), we reject the Null Hypothesis. Thus, we conclude that there is a statistically significant relationship between Survival and Cabin Class, we know that the first-class cabin has the highest survived rate, then the second-class cabin, and the third one. Please see the the bar chart and Survival ratio table above."
   ]
  },
  {
   "cell_type": "markdown",
   "metadata": {},
   "source": [
    "### 4.2 Gender vs. Survived?\n",
    "To compare the Dependent_Variable, Surival(a categorical variable:0,1) of two Independent_Variable(Female/Male), Difference in Proportions Z-test will be an appropriate statistical test(set p_critical = 0.05). "
   ]
  },
  {
   "cell_type": "code",
   "execution_count": 175,
   "metadata": {
    "collapsed": false
   },
   "outputs": [
    {
     "name": "stdout",
     "output_type": "stream",
     "text": [
      "Total survival numbers grouped by Gender:\n",
      "Sex\n",
      "0    385\n",
      "1    109\n",
      "Name: Survived, dtype: int64 \n",
      "\n",
      "Total onboard numbers grouped by Gender:\n",
      "Sex\n",
      "0    466\n",
      "1    843\n",
      "Name: Survived, dtype: int64 \n",
      "\n",
      "Results of  Z-test on Gender to Survival:\n",
      "Z-test Score =  24.91\n",
      "P-value =  6.51324462992e-137\n"
     ]
    }
   ],
   "source": [
    "from statsmodels.stats.proportion import proportions_ztest\n",
    "\n",
    "#Create a Contingency Table to get total survival numbers grouped by Gender categories\n",
    "count = pd.pivot_table(data = survivor_df[['Survived', 'Sex']], columns = ['Sex'], values = 'Survived', aggfunc = len)\n",
    "print \"Total survival numbers grouped by Gender:\"\n",
    "print count,\"\\n\"\n",
    "\n",
    "#Create a Contingency Table to get total onboard numbers grouped by Gender categories\n",
    "nobs = pd.pivot_table(data = titanic_df[['Survived','Sex']], columns = ['Sex'], values='Survived',aggfunc = len)\n",
    "print \"Total onboard numbers grouped by Gender:\"\n",
    "print nobs, \"\\n\"\n",
    "\n",
    "#Running Two-proportion Z-test\n",
    "zstat, p_value = proportions_ztest(count, nobs, value=0)\n",
    "\n",
    "print \"Results of  Z-test on Gender to Survival:\"\n",
    "print \"Z-test Score = \",round(zstat,2)\n",
    "print \"P-value = \", p_value\n"
   ]
  },
  {
   "cell_type": "markdown",
   "metadata": {},
   "source": [
    "#### Please see Section 4.2.1 for the detail analysis."
   ]
  },
  {
   "cell_type": "code",
   "execution_count": 165,
   "metadata": {
    "collapsed": false
   },
   "outputs": [
    {
     "data": {
      "image/png": "[encoded data removed]",
      "text/plain": [
       "<matplotlib.figure.Figure at 0x1189ac950>"
      ]
     },
     "metadata": {},
     "output_type": "display_data"
    },
    {
     "name": "stdout",
     "output_type": "stream",
     "text": [
      "         Female   Male\n",
      "Survivor  82.6%  12.9%\n",
      "Victim    17.4%  87.1%\n"
     ]
    }
   ],
   "source": [
    "# Visualizing \"Gender\" - \"Survived\" with bar chart\n",
    "\n",
    "ax = titanic_df['Survived'].hist(by=titanic_df['Sex'])\n",
    "\n",
    "x_labels = [\"Victim\",\"Survivor\"]\n",
    "for i in range(2):\n",
    "    x0, x1 = ax[i].get_xlim()\n",
    "    ax[i].set_xlim(x0 -0.25, x1 +1.75)\n",
    "    plt.setp(ax[i].containers, width=0.25)\n",
    "    ax[i].set_xticks([0.1, 1]) \n",
    "    ax[i].set_xticklabels(x_labels, rotation=0)\n",
    "    ax[i].set_title(' ')\n",
    "    ax[i].set_ylabel('Frequency')\n",
    "\n",
    "ax[0].set_xlabel('Female')\n",
    "ax[1].set_xlabel('Male')\n",
    "\n",
    "plt.suptitle(\"Histogram of Survived By Gender\")\n",
    "plt.show()\n",
    "\n",
    "#Caculate Surival ratio by Gender\n",
    "sex_ratio_df = pd.DataFrame(data = total_ratio('Sex'), index = ['Survivor','Victim'],\n",
    "                            columns = ['Female','Male'])\n",
    "print sex_ratio_df\n"
   ]
  },
  {
   "cell_type": "markdown",
   "metadata": {},
   "source": [
    "#### 4.2.1 Interpretation:\n",
    "   According Two-proportion Z-test results, since the P-value(6.51e-137) is less than the critical level(0.05), we reject the Null Hypothesis. Thus, we conclude that there is a statistically significant relationship between Survival and Gender, clearly shown that Female would have higher survival rate than Male. Please see the bar chart and ratio table above."
   ]
  },
  {
   "cell_type": "markdown",
   "metadata": {},
   "source": [
    "### 4.3 Age  vs. Survived?\n",
    "To compare the survival by Age, since Age is continuous variable, T_test will be an appropriate statistical test for two groups(Survivor/victim, set p_critical = 0.05) "
   ]
  },
  {
   "cell_type": "code",
   "execution_count": 180,
   "metadata": {
    "collapsed": false
   },
   "outputs": [
    {
     "name": "stdout",
     "output_type": "stream",
     "text": [
      "Results of  T-test on Age to Survival:\n",
      "T-test Score =  -1.57\n",
      "P-value =  0.117507296587\n"
     ]
    }
   ],
   "source": [
    "# T_test for age of surviror and victim groups\n",
    "\n",
    "tstat, p_value = stats.ttest_ind(survivor_df['Age'], victim_df['Age'])\n",
    "\n",
    "print \"Results of  T-test on Age to Survival:\"\n",
    "print \"T-test Score = \",round(tstat,2)\n",
    "print \"P-value = \", p_value"
   ]
  },
  {
   "cell_type": "markdown",
   "metadata": {},
   "source": [
    "#### Please see Section 4.3.1 for the detail analysis."
   ]
  },
  {
   "cell_type": "code",
   "execution_count": 11,
   "metadata": {
    "collapsed": false
   },
   "outputs": [
    {
     "data": {
      "image/png": "[encoded data removed]",
      "text/plain": [
       "<matplotlib.figure.Figure at 0x1169c0a10>"
      ]
     },
     "metadata": {},
     "output_type": "display_data"
    }
   ],
   "source": [
    "# Visualizing \"Age\" - \"Survived\" with Boxplot\n",
    "box = plt.figure() \n",
    "ax = box.add_subplot(111)\n",
    "x1 = survivor_df['Age'] \n",
    "x2 = victim_df['Age']  \n",
    "x_labels = ['Survivor','Victim']  \n",
    "ax.boxplot([x1,x2], labels = x_labels)  \n",
    "ax.set_ylabel('Age') \n",
    "ax.set_title('Box Plot Survived') \n",
    "\n",
    "plt.show()"
   ]
  },
  {
   "cell_type": "code",
   "execution_count": 181,
   "metadata": {
    "collapsed": false
   },
   "outputs": [
    {
     "data": {
      "image/png": "[encoded data removed]",
      "text/plain": [
       "<matplotlib.figure.Figure at 0x118e42190>"
      ]
     },
     "metadata": {},
     "output_type": "display_data"
    }
   ],
   "source": [
    "# Visualizing \"Age\" - \"Survived\" with Histogram chart\n",
    "\n",
    "plt.hist(survivor_df['Age'], normed=1, histtype='step', color ='green', label = 'Survivor', linewidth=1.5)\n",
    "plt.hist(victim_df['Age'], normed=1, histtype='step', color = 'blue', label = 'Victim', linewidth=1.5)\n",
    "plt.title(\"Histogram of Survivability by Age\")\n",
    "plt.legend(prop={'size': 12})\n",
    "plt.xlabel('Age')\n",
    "plt.ylabel('Relative Frequency')\n",
    "\n",
    "plt.show()\n"
   ]
  },
  {
   "cell_type": "markdown",
   "metadata": {},
   "source": [
    "#### 4.3.1 Interpretation:\n",
    "Since p_value(0.1175) is large than 0.05. Thus, we conclude that there is not a significant relationship between Survival and Age. Please see the boxplot and step histogram charts above."
   ]
  },
  {
   "cell_type": "markdown",
   "metadata": {},
   "source": [
    "### 4.4 Embarked vs. Survived?\n",
    "To compare the survival rates between three embarked ports, statistical tests will be run. Since Survival is a categorical dependent variable. An chi-squared test for categorical data is an appropriate statistical test(set p_critical = 0.05)."
   ]
  },
  {
   "cell_type": "code",
   "execution_count": 13,
   "metadata": {
    "collapsed": false
   },
   "outputs": [
    {
     "name": "stdout",
     "output_type": "stream",
     "text": [
      "Embarked  1.0  2.0  3.0\n",
      "Survived               \n",
      "0         137   69  609\n",
      "1         133   54  305 \n",
      "\n",
      "Results of Chi-Squared test on Embarekd Ports to Survival:\n",
      "Chi-Squared Score =  24.68\n",
      "P-value =  4.36358318208e-06\n"
     ]
    }
   ],
   "source": [
    "# Analysis relationship between Embarked Ports and Survival\n",
    "\n",
    "# Create a Contingency Table to examine relationships between categorical variables.\n",
    "pivot = pd.pivot_table(data = titanic_df[['Survived', 'Embarked']], \n",
    "                       index = 'Survived', columns = ['Embarked'], aggfunc = len)\n",
    "\n",
    "print pivot,\"\\n\"\n",
    "\n",
    "# Using Contingency Table pivot to run Chi-Squared Test.\n",
    "chi2, p_value, dof, expected = stats.chi2_contingency(pivot)\n",
    "\n",
    "print \"Results of Chi-Squared test on Embarekd Ports to Survival:\"\n",
    "print \"Chi-Squared Score = \",round(chi2,2)\n",
    "print \"P-value = \", p_value"
   ]
  },
  {
   "cell_type": "markdown",
   "metadata": {},
   "source": [
    "#### Please see Section 4.4.1 for the detail analysis."
   ]
  },
  {
   "cell_type": "code",
   "execution_count": 189,
   "metadata": {
    "collapsed": false
   },
   "outputs": [
    {
     "data": {
      "image/png": "[encoded data removed]",
      "text/plain": [
       "<matplotlib.figure.Figure at 0x1188ad950>"
      ]
     },
     "metadata": {},
     "output_type": "display_data"
    },
    {
     "name": "stdout",
     "output_type": "stream",
     "text": [
      "         Cherbourg Queenstown Southampton\n",
      "Survived     49.3%      43.9%       33.4%\n",
      "Victim       50.7%      56.1%       66.6%\n"
     ]
    }
   ],
   "source": [
    "# Visualizing \"Embarked Ports\" - \"Survived\" with bar chart\n",
    "pd.crosstab(titanic_df['Embarked'], titanic_df['Survived']).plot(kind='bar', color=color)\n",
    "\n",
    "ax = plt.gca()\n",
    "ax.set_xticklabels(('Cherbourg', 'Queenstown', 'Southampton'),rotation=0)\n",
    "plt.xlabel('Embarked Port')\n",
    "plt.ylabel('Frequency')\n",
    "plt.title('Histogram of Survived By Embarked Ports')\n",
    "plt.legend(('Victim','Survivor'),prop={'size': 8})\n",
    "\n",
    "plt.show()\n",
    "\n",
    "#Caculate Surival ratio by embarked ports\n",
    "Embarked_ratio_df = pd.DataFrame(data =total_ratio('Embarked'), index = ['Survived','Victim'], \n",
    "                                 columns =['Cherbourg', 'Queenstown', 'Southampton'])\n",
    "print Embarked_ratio_df"
   ]
  },
  {
   "cell_type": "markdown",
   "metadata": {},
   "source": [
    "#### 4.4.1 Interpretation:\n",
    "According chi-square test results, Since the P-value(4.36e-06) is less than the critical level(0.05), we cannot accept the null hypothesis. Thus, we conclude that there is a relationship between Survival and Embarked Ports. Please see the bar chart and the ratio table above."
   ]
  },
  {
   "cell_type": "markdown",
   "metadata": {},
   "source": [
    "### 4.5 PassengerID vs. Survived?"
   ]
  },
  {
   "cell_type": "code",
   "execution_count": 15,
   "metadata": {
    "collapsed": false
   },
   "outputs": [
    {
     "data": {
      "image/png": "[encoded data removed]",
      "text/plain": [
       "<matplotlib.figure.Figure at 0x11746a750>"
      ]
     },
     "metadata": {},
     "output_type": "display_data"
    }
   ],
   "source": [
    "# Get the last digit of the PassengerId\n",
    "\n",
    "def get_last_digi(x): \n",
    "    return int(str(x)[-1])\n",
    "\n",
    "last_digi_pid = titanic_df['PassengerId'].apply(get_last_digi)\n",
    "\n",
    "ax = last_digi_pid.hist(by=titanic_df['Survived'])\n",
    "ax[0].set_title('Victim')\n",
    "ax[1].set_title('Survivor')\n",
    "ax[0].set_ylabel('Frequency')\n",
    "ax[1].set_ylabel('Frequency')\n",
    "ax[0].set_xlabel('PassengerId')\n",
    "ax[1].set_xlabel('PassengerId')\n",
    "\n",
    "plt.suptitle(\"Histogram of Survived By PassengerId\")\n",
    "\n",
    "plt.show()"
   ]
  },
  {
   "cell_type": "markdown",
   "metadata": {},
   "source": [
    "#### 4.5.1 Interpretation\n",
    "  I know that the PassengerIds were probably generated by system. However, I am a little bit superstition and curious what the most lucky/unlucky numbers are. We can find out from above charts that the Passengers with 0 or 8 Id got most chance to survived, likewise, 3 and 5 are most unlucky numbers    "
   ]
  },
  {
   "cell_type": "markdown",
   "metadata": {
    "collapsed": true
   },
   "source": [
    "## 5. Conclusion\n",
    "- Based on the above investigation, the final conculsion would be : Females would have more survival rate than males. Passengers who stayed in first class cabin would have the highest survived rate than others classes. Passengers embarked from Cherbourg or Queenstown would have more survived rate than those from Southampton. Survival rate does not related to Age.\n",
    "- One simple thought of the survial rate, were there enough lifeboats on board? The final conculsions are just based on the current dataset information, I think we need at least one important information to do further investigation, the lifeboats information, like: How many lifeboats, were they enough for all passengers? Where were they located, Were they near first cabin class? I think all those factors will impact our analysis."
   ]
  },
  {
   "cell_type": "markdown",
   "metadata": {
    "collapsed": true
   },
   "source": [
    "## 6.References\n",
    "(1) Statwing website: titanic demo (https://www.statwing.com/demos/titanic#workspaces/8497)                    \n",
    "(2) SciPy Reference Guide (http://docs.scipy.org/doc/scipy/reference/index.html)                    \n",
    "(3) Matplotlib Guide (http://matplotlib.org/index.html)                    \n",
    "(4) Pandas Documentation (http://pandas.pydata.org/pandas-docs/stable/index.html)            \n",
    "(5) Udacity forum: discussions.udacity.com             \n",
    "(6) Udacity DA and Statistics courses                \n",
    "(7) David R. Anderson, Dennis J. Sweeney, Tomas A. Williams Statistics for Business and Economics (11th Edition)"
   ]
  }
 ],
 "metadata": {
  "kernelspec": {
   "display_name": "Python 2",
   "language": "python",
   "name": "python2"
  },
  "language_info": {
   "codemirror_mode": {
    "name": "ipython",
    "version": 2
   },
   "file_extension": ".py",
   "mimetype": "text/x-python",
   "name": "python",
   "nbconvert_exporter": "python",
   "pygments_lexer": "ipython2",
   "version": "2.7.11"
  }
 },
 "nbformat": 4,
 "nbformat_minor": 0
}
